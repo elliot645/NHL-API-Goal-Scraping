{
 "cells": [
  {
   "cell_type": "markdown",
   "id": "1b2e0b50",
   "metadata": {},
   "source": [
    "Get list of gameIds"
   ]
  },
  {
   "cell_type": "code",
   "execution_count": 88,
   "id": "22b62c79",
   "metadata": {},
   "outputs": [],
   "source": [
    "import pandas as pd\n",
    "def get_ids(season,game_type):\n",
    "    #get url with proper gameId, convert to json\n",
    "    season_input = str(season)+str(season+1)\n",
    "    url = f\"https://statsapi.web.nhl.com/api/v1/schedule\"\n",
    "    response = requests.get(url, params={\"season\" : season_input,\"Content-Type\": \"application/json\",\"gameType\" : game_type})\n",
    "    schedule_data =  response.json()\n",
    "    \n",
    "    #dates = filter(lambda a : (a[\"result\"][\"event\"] == \"Goal\"),shotData[\"liveData\"][\"plays\"][\"allPlays\"]) \n",
    "    dates = schedule_data['dates']\n",
    "    game_ids = []\n",
    "    for date in dates:\n",
    "        for game in date['games']:\n",
    "            game_ids.append(game['gamePk'])\n",
    "    return game_ids\n",
    "x = get_ids(2019,'P')"
   ]
  },
  {
   "cell_type": "code",
   "execution_count": 87,
   "id": "d65815cf",
   "metadata": {},
   "outputs": [
    {
     "data": {
      "text/plain": [
       "['Pre-season : PR',\n",
       " 'Regular season : R',\n",
       " 'Playoffs : P',\n",
       " 'All-Star game : A',\n",
       " 'All-Star Women game : WA',\n",
       " 'Olympic game : O',\n",
       " 'World cup of hockey exhibition/preseason games  : WCOH_EXH',\n",
       " 'World cup of hockey preliminary games  : WCOH_PRELIM',\n",
       " 'World cup of hockey semifinals and finals  : WCOH_FINAL']"
      ]
     },
     "execution_count": 87,
     "metadata": {},
     "output_type": "execute_result"
    }
   ],
   "source": [
    "#game type inputs:\n",
    "def game_types():\n",
    "    response = requests.get('https://statsapi.web.nhl.com/api/v1/gameTypes')\n",
    "    game_types =  response.json()\n",
    "    types = []\n",
    "    for code in game_types:\n",
    "        types.append(f\"{code['description']} : {code['id']}\")\n",
    "    return types\n",
    "game_types()\n",
    "                 "
   ]
  },
  {
   "cell_type": "markdown",
   "id": "60acf765",
   "metadata": {},
   "source": [
    "get goal data from a game"
   ]
  },
  {
   "cell_type": "code",
   "execution_count": 216,
   "id": "0a9f47f5",
   "metadata": {},
   "outputs": [],
   "source": [
    "def get_shot_data(shot):\n",
    "    shot_data = {\n",
    "        **shot['coordinates'],\n",
    "        'event' : shot['result']['event'],\n",
    "        'secondaryType' : shot['result'].get('secondaryType'),\n",
    "        'shooter' : shot['players'][0]['player']['fullName'] if shot['result']['event'] != \"Blocked Shot\" else shot['players'][1]['player']['fullName'],\n",
    "        'blocker' : shot['players'][0]['player']['fullName'] if shot['result']['event'] == \"Blocked Shot\" else 'None',\n",
    "        'team' : shot['team']['name'], #note: refers to team of blocker for blocked shots\n",
    "        'strength' : shot['result']['strength']['name'] if shot['result']['event'] == 'Goal' else 'None',\n",
    "        'period' : shot['about']['period'],\n",
    "        'game_winning_goal' : shot['result'].get('gameWinningGoal'),\n",
    "        'empty_net' : shot['result'].get('emptyNet'),\n",
    "    }\n",
    "    #empty net goals mean there may not be a goalie in net\n",
    "    goalie_info = list(filter(lambda a : a['playerType'] == 'Goalie',shot['players']))\n",
    "    shot_data['goalie'] = goalie_info[0]['player']['fullName'] if len(goalie_info) > 0 else 'None'\n",
    "\n",
    "    #Assists\n",
    "    for i,player in enumerate(list(filter(lambda a : a['playerType'] == 'Assist',shot['players']))):\n",
    "        shot_data[f\"assist_{i+1}\"] = player['player']['fullName']\n",
    "    return shot_data"
   ]
  },
  {
   "cell_type": "markdown",
   "id": "ecb302b6",
   "metadata": {},
   "source": [
    "Read all the data from the api into a list"
   ]
  },
  {
   "cell_type": "code",
   "execution_count": 225,
   "id": "42f0a885",
   "metadata": {},
   "outputs": [],
   "source": [
    "import requests\n",
    "import pandas as pd\n",
    "\n",
    "#function to retrieve all goal locations from a team in a given season\n",
    "def season_shots(season,game_type):\n",
    "    shot_data = []\n",
    "    for game_id in get_ids(season,game_type):\n",
    "        #get url with proper gameId, convert to json\n",
    "        API_URL = f\"https://statsapi.web.nhl.com/api/v1/game/{game_id}/feed/live\"\n",
    "        response = requests.get(API_URL, params={\"Content-Type\": \"application/json\"})\n",
    "        game_data = response.json()\n",
    "        shots = filter(lambda a : a[\"result\"][\"event\"] == \"Goal\" \n",
    "               or a[\"result\"][\"event\"] == \"Shot\" \n",
    "               or a[\"result\"][\"event\"] == \"Missed Shot\"\n",
    "               or a[\"result\"][\"event\"] == \"Blocked Shot\" ,game_data[\"liveData\"][\"plays\"][\"allPlays\"]) \n",
    "        \n",
    "        for shot in shots:\n",
    "            shot_data.append({**get_shot_data(shot),'game_id' : game_id})\n",
    "    return shot_data"
   ]
  },
  {
   "cell_type": "code",
   "execution_count": 227,
   "id": "59f6c140",
   "metadata": {},
   "outputs": [
    {
     "name": "stdout",
     "output_type": "stream",
     "text": [
      "Wall time: 3min 36s\n"
     ]
    }
   ],
   "source": [
    "%%time\n",
    "x = season_shots(2022,'R')"
   ]
  },
  {
   "cell_type": "markdown",
   "id": "3b707307",
   "metadata": {},
   "source": [
    "Export"
   ]
  },
  {
   "cell_type": "code",
   "execution_count": 553,
   "id": "a48f7533",
   "metadata": {},
   "outputs": [],
   "source": [
    "df = pd.DataFrame(x)\n",
    "df.to_csv('season_shots.csv')"
   ]
  }
 ],
 "metadata": {
  "kernelspec": {
   "display_name": "Python 3 (ipykernel)",
   "language": "python",
   "name": "python3"
  },
  "language_info": {
   "codemirror_mode": {
    "name": "ipython",
    "version": 3
   },
   "file_extension": ".py",
   "mimetype": "text/x-python",
   "name": "python",
   "nbconvert_exporter": "python",
   "pygments_lexer": "ipython3",
   "version": "3.9.13"
  }
 },
 "nbformat": 4,
 "nbformat_minor": 5
}
